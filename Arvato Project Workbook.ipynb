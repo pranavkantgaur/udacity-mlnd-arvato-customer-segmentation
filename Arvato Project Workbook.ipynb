{
 "cells": [
  {
   "cell_type": "markdown",
   "metadata": {},
   "source": [
    "# Capstone Project: Create a Customer Segmentation Report for Arvato Financial Services\n",
    "\n",
    "In this project, you will analyze demographics data for customers of a mail-order sales company in Germany, comparing it against demographics information for the general population. You'll use unsupervised learning techniques to perform customer segmentation, identifying the parts of the population that best describe the core customer base of the company. Then, you'll apply what you've learned on a third dataset with demographics information for targets of a marketing campaign for the company, and use a model to predict which individuals are most likely to convert into becoming customers for the company. The data that you will use has been provided by our partners at Bertelsmann Arvato Analytics, and represents a real-life data science task.\n",
    "\n",
    "If you completed the first term of this program, you will be familiar with the first part of this project, from the unsupervised learning project. The versions of those two datasets used in this project will include many more features and has not been pre-cleaned. You are also free to choose whatever approach you'd like to analyzing the data rather than follow pre-determined steps. In your work on this project, make sure that you carefully document your steps and decisions, since your main deliverable for this project will be a blog post reporting your findings."
   ]
  },
  {
   "cell_type": "code",
   "execution_count": 16,
   "metadata": {},
   "outputs": [],
   "source": [
    "# import libraries here; add more as necessary\n",
    "import numpy as np\n",
    "import pandas as pd\n",
    "import matplotlib.pyplot as plt\n",
    "import seaborn as sns\n",
    "\n",
    "# magic word for producing visualizations in notebook\n",
    "%matplotlib inline"
   ]
  },
  {
   "cell_type": "markdown",
   "metadata": {},
   "source": [
    "## Part 0: Get to Know the Data\n",
    "\n",
    "There are four data files associated with this project:\n",
    "\n",
    "- `Udacity_AZDIAS_052018.csv`: Demographics data for the general population of Germany; 891 211 persons (rows) x 366 features (columns).\n",
    "- `Udacity_CUSTOMERS_052018.csv`: Demographics data for customers of a mail-order company; 191 652 persons (rows) x 369 features (columns).\n",
    "- `Udacity_MAILOUT_052018_TRAIN.csv`: Demographics data for individuals who were targets of a marketing campaign; 42 982 persons (rows) x 367 (columns).\n",
    "- `Udacity_MAILOUT_052018_TEST.csv`: Demographics data for individuals who were targets of a marketing campaign; 42 833 persons (rows) x 366 (columns).\n",
    "\n",
    "Each row of the demographics files represents a single person, but also includes information outside of individuals, including information about their household, building, and neighborhood. Use the information from the first two files to figure out how customers (\"CUSTOMERS\") are similar to or differ from the general population at large (\"AZDIAS\"), then use your analysis to make predictions on the other two files (\"MAILOUT\"), predicting which recipients are most likely to become a customer for the mail-order company.\n",
    "\n",
    "The \"CUSTOMERS\" file contains three extra columns ('CUSTOMER_GROUP', 'ONLINE_PURCHASE', and 'PRODUCT_GROUP'), which provide broad information about the customers depicted in the file. The original \"MAILOUT\" file included one additional column, \"RESPONSE\", which indicated whether or not each recipient became a customer of the company. For the \"TRAIN\" subset, this column has been retained, but in the \"TEST\" subset it has been removed; it is against that withheld column that your final predictions will be assessed in the Kaggle competition.\n",
    "\n",
    "Otherwise, all of the remaining columns are the same between the three data files. For more information about the columns depicted in the files, you can refer to two Excel spreadsheets provided in the workspace. [One of them](./DIAS Information Levels - Attributes 2017.xlsx) is a top-level list of attributes and descriptions, organized by informational category. [The other](./DIAS Attributes - Values 2017.xlsx) is a detailed mapping of data values for each feature in alphabetical order.\n",
    "\n",
    "In the below cell, we've provided some initial code to load in the first two datasets. Note for all of the `.csv` data files in this project that they're semicolon (`;`) delimited, so an additional argument in the [`read_csv()`](https://pandas.pydata.org/pandas-docs/stable/generated/pandas.read_csv.html) call has been included to read in the data properly. Also, considering the size of the datasets, it may take some time for them to load completely.\n",
    "\n",
    "You'll notice when the data is loaded in that a warning message will immediately pop up. Before you really start digging into the modeling and analysis, you're going to need to perform some cleaning. Take some time to browse the structure of the data and look over the informational spreadsheets to understand the data values. Make some decisions on which features to keep, which features to drop, and if any revisions need to be made on data formats. It'll be a good idea to create a function with pre-processing steps, since you'll need to clean all of the datasets before you work with them."
   ]
  },
  {
   "cell_type": "code",
   "execution_count": 17,
   "metadata": {},
   "outputs": [
    {
     "name": "stderr",
     "output_type": "stream",
     "text": [
      "/home/ec2-user/anaconda3/envs/amazonei_mxnet_p36/lib/python3.6/site-packages/IPython/core/interactiveshell.py:3063: DtypeWarning: Columns (18,19) have mixed types.Specify dtype option on import or set low_memory=False.\n",
      "  interactivity=interactivity, compiler=compiler, result=result)\n"
     ]
    }
   ],
   "source": [
    "# load in the data\n",
    "azdias = pd.read_csv('datasets/Udacity_AZDIAS_052018.csv', sep=';')\n",
    "customers = pd.read_csv('datasets/Udacity_CUSTOMERS_052018.csv', sep=';')"
   ]
  },
  {
   "cell_type": "code",
   "execution_count": 18,
   "metadata": {},
   "outputs": [
    {
     "data": {
      "text/html": [
       "<div>\n",
       "<style scoped>\n",
       "    .dataframe tbody tr th:only-of-type {\n",
       "        vertical-align: middle;\n",
       "    }\n",
       "\n",
       "    .dataframe tbody tr th {\n",
       "        vertical-align: top;\n",
       "    }\n",
       "\n",
       "    .dataframe thead th {\n",
       "        text-align: right;\n",
       "    }\n",
       "</style>\n",
       "<table border=\"1\" class=\"dataframe\">\n",
       "  <thead>\n",
       "    <tr style=\"text-align: right;\">\n",
       "      <th></th>\n",
       "      <th>LNR</th>\n",
       "      <th>AGER_TYP</th>\n",
       "      <th>AKT_DAT_KL</th>\n",
       "      <th>ALTER_HH</th>\n",
       "      <th>ALTER_KIND1</th>\n",
       "      <th>ALTER_KIND2</th>\n",
       "      <th>ALTER_KIND3</th>\n",
       "      <th>ALTER_KIND4</th>\n",
       "      <th>ALTERSKATEGORIE_FEIN</th>\n",
       "      <th>ANZ_HAUSHALTE_AKTIV</th>\n",
       "      <th>...</th>\n",
       "      <th>VHN</th>\n",
       "      <th>VK_DHT4A</th>\n",
       "      <th>VK_DISTANZ</th>\n",
       "      <th>VK_ZG11</th>\n",
       "      <th>W_KEIT_KIND_HH</th>\n",
       "      <th>WOHNDAUER_2008</th>\n",
       "      <th>WOHNLAGE</th>\n",
       "      <th>ZABEOTYP</th>\n",
       "      <th>ANREDE_KZ</th>\n",
       "      <th>ALTERSKATEGORIE_GROB</th>\n",
       "    </tr>\n",
       "  </thead>\n",
       "  <tbody>\n",
       "    <tr>\n",
       "      <th>0</th>\n",
       "      <td>910215</td>\n",
       "      <td>-1</td>\n",
       "      <td>NaN</td>\n",
       "      <td>NaN</td>\n",
       "      <td>NaN</td>\n",
       "      <td>NaN</td>\n",
       "      <td>NaN</td>\n",
       "      <td>NaN</td>\n",
       "      <td>NaN</td>\n",
       "      <td>NaN</td>\n",
       "      <td>...</td>\n",
       "      <td>NaN</td>\n",
       "      <td>NaN</td>\n",
       "      <td>NaN</td>\n",
       "      <td>NaN</td>\n",
       "      <td>NaN</td>\n",
       "      <td>NaN</td>\n",
       "      <td>NaN</td>\n",
       "      <td>3</td>\n",
       "      <td>1</td>\n",
       "      <td>2</td>\n",
       "    </tr>\n",
       "    <tr>\n",
       "      <th>1</th>\n",
       "      <td>910220</td>\n",
       "      <td>-1</td>\n",
       "      <td>9.0</td>\n",
       "      <td>0.0</td>\n",
       "      <td>NaN</td>\n",
       "      <td>NaN</td>\n",
       "      <td>NaN</td>\n",
       "      <td>NaN</td>\n",
       "      <td>21.0</td>\n",
       "      <td>11.0</td>\n",
       "      <td>...</td>\n",
       "      <td>4.0</td>\n",
       "      <td>8.0</td>\n",
       "      <td>11.0</td>\n",
       "      <td>10.0</td>\n",
       "      <td>3.0</td>\n",
       "      <td>9.0</td>\n",
       "      <td>4.0</td>\n",
       "      <td>5</td>\n",
       "      <td>2</td>\n",
       "      <td>1</td>\n",
       "    </tr>\n",
       "    <tr>\n",
       "      <th>2</th>\n",
       "      <td>910225</td>\n",
       "      <td>-1</td>\n",
       "      <td>9.0</td>\n",
       "      <td>17.0</td>\n",
       "      <td>NaN</td>\n",
       "      <td>NaN</td>\n",
       "      <td>NaN</td>\n",
       "      <td>NaN</td>\n",
       "      <td>17.0</td>\n",
       "      <td>10.0</td>\n",
       "      <td>...</td>\n",
       "      <td>2.0</td>\n",
       "      <td>9.0</td>\n",
       "      <td>9.0</td>\n",
       "      <td>6.0</td>\n",
       "      <td>3.0</td>\n",
       "      <td>9.0</td>\n",
       "      <td>2.0</td>\n",
       "      <td>5</td>\n",
       "      <td>2</td>\n",
       "      <td>3</td>\n",
       "    </tr>\n",
       "    <tr>\n",
       "      <th>3</th>\n",
       "      <td>910226</td>\n",
       "      <td>2</td>\n",
       "      <td>1.0</td>\n",
       "      <td>13.0</td>\n",
       "      <td>NaN</td>\n",
       "      <td>NaN</td>\n",
       "      <td>NaN</td>\n",
       "      <td>NaN</td>\n",
       "      <td>13.0</td>\n",
       "      <td>1.0</td>\n",
       "      <td>...</td>\n",
       "      <td>0.0</td>\n",
       "      <td>7.0</td>\n",
       "      <td>10.0</td>\n",
       "      <td>11.0</td>\n",
       "      <td>NaN</td>\n",
       "      <td>9.0</td>\n",
       "      <td>7.0</td>\n",
       "      <td>3</td>\n",
       "      <td>2</td>\n",
       "      <td>4</td>\n",
       "    </tr>\n",
       "    <tr>\n",
       "      <th>4</th>\n",
       "      <td>910241</td>\n",
       "      <td>-1</td>\n",
       "      <td>1.0</td>\n",
       "      <td>20.0</td>\n",
       "      <td>NaN</td>\n",
       "      <td>NaN</td>\n",
       "      <td>NaN</td>\n",
       "      <td>NaN</td>\n",
       "      <td>14.0</td>\n",
       "      <td>3.0</td>\n",
       "      <td>...</td>\n",
       "      <td>2.0</td>\n",
       "      <td>3.0</td>\n",
       "      <td>5.0</td>\n",
       "      <td>4.0</td>\n",
       "      <td>2.0</td>\n",
       "      <td>9.0</td>\n",
       "      <td>3.0</td>\n",
       "      <td>4</td>\n",
       "      <td>1</td>\n",
       "      <td>3</td>\n",
       "    </tr>\n",
       "    <tr>\n",
       "      <th>5</th>\n",
       "      <td>910244</td>\n",
       "      <td>3</td>\n",
       "      <td>1.0</td>\n",
       "      <td>10.0</td>\n",
       "      <td>NaN</td>\n",
       "      <td>NaN</td>\n",
       "      <td>NaN</td>\n",
       "      <td>NaN</td>\n",
       "      <td>10.0</td>\n",
       "      <td>5.0</td>\n",
       "      <td>...</td>\n",
       "      <td>2.0</td>\n",
       "      <td>10.0</td>\n",
       "      <td>7.0</td>\n",
       "      <td>4.0</td>\n",
       "      <td>6.0</td>\n",
       "      <td>9.0</td>\n",
       "      <td>7.0</td>\n",
       "      <td>4</td>\n",
       "      <td>2</td>\n",
       "      <td>1</td>\n",
       "    </tr>\n",
       "    <tr>\n",
       "      <th>6</th>\n",
       "      <td>910248</td>\n",
       "      <td>-1</td>\n",
       "      <td>9.0</td>\n",
       "      <td>0.0</td>\n",
       "      <td>NaN</td>\n",
       "      <td>NaN</td>\n",
       "      <td>NaN</td>\n",
       "      <td>NaN</td>\n",
       "      <td>NaN</td>\n",
       "      <td>4.0</td>\n",
       "      <td>...</td>\n",
       "      <td>2.0</td>\n",
       "      <td>7.0</td>\n",
       "      <td>10.0</td>\n",
       "      <td>10.0</td>\n",
       "      <td>3.0</td>\n",
       "      <td>9.0</td>\n",
       "      <td>5.0</td>\n",
       "      <td>4</td>\n",
       "      <td>2</td>\n",
       "      <td>2</td>\n",
       "    </tr>\n",
       "    <tr>\n",
       "      <th>7</th>\n",
       "      <td>910261</td>\n",
       "      <td>-1</td>\n",
       "      <td>1.0</td>\n",
       "      <td>14.0</td>\n",
       "      <td>NaN</td>\n",
       "      <td>NaN</td>\n",
       "      <td>NaN</td>\n",
       "      <td>NaN</td>\n",
       "      <td>14.0</td>\n",
       "      <td>6.0</td>\n",
       "      <td>...</td>\n",
       "      <td>2.0</td>\n",
       "      <td>10.0</td>\n",
       "      <td>12.0</td>\n",
       "      <td>9.0</td>\n",
       "      <td>5.0</td>\n",
       "      <td>9.0</td>\n",
       "      <td>1.0</td>\n",
       "      <td>1</td>\n",
       "      <td>1</td>\n",
       "      <td>1</td>\n",
       "    </tr>\n",
       "    <tr>\n",
       "      <th>8</th>\n",
       "      <td>645145</td>\n",
       "      <td>-1</td>\n",
       "      <td>9.0</td>\n",
       "      <td>16.0</td>\n",
       "      <td>NaN</td>\n",
       "      <td>NaN</td>\n",
       "      <td>NaN</td>\n",
       "      <td>NaN</td>\n",
       "      <td>16.0</td>\n",
       "      <td>2.0</td>\n",
       "      <td>...</td>\n",
       "      <td>4.0</td>\n",
       "      <td>8.0</td>\n",
       "      <td>11.0</td>\n",
       "      <td>8.0</td>\n",
       "      <td>5.0</td>\n",
       "      <td>8.0</td>\n",
       "      <td>1.0</td>\n",
       "      <td>6</td>\n",
       "      <td>1</td>\n",
       "      <td>3</td>\n",
       "    </tr>\n",
       "    <tr>\n",
       "      <th>9</th>\n",
       "      <td>645153</td>\n",
       "      <td>-1</td>\n",
       "      <td>5.0</td>\n",
       "      <td>17.0</td>\n",
       "      <td>NaN</td>\n",
       "      <td>NaN</td>\n",
       "      <td>NaN</td>\n",
       "      <td>NaN</td>\n",
       "      <td>17.0</td>\n",
       "      <td>9.0</td>\n",
       "      <td>...</td>\n",
       "      <td>4.0</td>\n",
       "      <td>1.0</td>\n",
       "      <td>1.0</td>\n",
       "      <td>1.0</td>\n",
       "      <td>4.0</td>\n",
       "      <td>3.0</td>\n",
       "      <td>7.0</td>\n",
       "      <td>4</td>\n",
       "      <td>2</td>\n",
       "      <td>3</td>\n",
       "    </tr>\n",
       "  </tbody>\n",
       "</table>\n",
       "<p>10 rows × 366 columns</p>\n",
       "</div>"
      ],
      "text/plain": [
       "      LNR  AGER_TYP  AKT_DAT_KL  ALTER_HH  ALTER_KIND1  ALTER_KIND2  \\\n",
       "0  910215        -1         NaN       NaN          NaN          NaN   \n",
       "1  910220        -1         9.0       0.0          NaN          NaN   \n",
       "2  910225        -1         9.0      17.0          NaN          NaN   \n",
       "3  910226         2         1.0      13.0          NaN          NaN   \n",
       "4  910241        -1         1.0      20.0          NaN          NaN   \n",
       "5  910244         3         1.0      10.0          NaN          NaN   \n",
       "6  910248        -1         9.0       0.0          NaN          NaN   \n",
       "7  910261        -1         1.0      14.0          NaN          NaN   \n",
       "8  645145        -1         9.0      16.0          NaN          NaN   \n",
       "9  645153        -1         5.0      17.0          NaN          NaN   \n",
       "\n",
       "   ALTER_KIND3  ALTER_KIND4  ALTERSKATEGORIE_FEIN  ANZ_HAUSHALTE_AKTIV  ...  \\\n",
       "0          NaN          NaN                   NaN                  NaN  ...   \n",
       "1          NaN          NaN                  21.0                 11.0  ...   \n",
       "2          NaN          NaN                  17.0                 10.0  ...   \n",
       "3          NaN          NaN                  13.0                  1.0  ...   \n",
       "4          NaN          NaN                  14.0                  3.0  ...   \n",
       "5          NaN          NaN                  10.0                  5.0  ...   \n",
       "6          NaN          NaN                   NaN                  4.0  ...   \n",
       "7          NaN          NaN                  14.0                  6.0  ...   \n",
       "8          NaN          NaN                  16.0                  2.0  ...   \n",
       "9          NaN          NaN                  17.0                  9.0  ...   \n",
       "\n",
       "   VHN  VK_DHT4A  VK_DISTANZ  VK_ZG11  W_KEIT_KIND_HH  WOHNDAUER_2008  \\\n",
       "0  NaN       NaN         NaN      NaN             NaN             NaN   \n",
       "1  4.0       8.0        11.0     10.0             3.0             9.0   \n",
       "2  2.0       9.0         9.0      6.0             3.0             9.0   \n",
       "3  0.0       7.0        10.0     11.0             NaN             9.0   \n",
       "4  2.0       3.0         5.0      4.0             2.0             9.0   \n",
       "5  2.0      10.0         7.0      4.0             6.0             9.0   \n",
       "6  2.0       7.0        10.0     10.0             3.0             9.0   \n",
       "7  2.0      10.0        12.0      9.0             5.0             9.0   \n",
       "8  4.0       8.0        11.0      8.0             5.0             8.0   \n",
       "9  4.0       1.0         1.0      1.0             4.0             3.0   \n",
       "\n",
       "   WOHNLAGE ZABEOTYP ANREDE_KZ ALTERSKATEGORIE_GROB  \n",
       "0       NaN        3         1                    2  \n",
       "1       4.0        5         2                    1  \n",
       "2       2.0        5         2                    3  \n",
       "3       7.0        3         2                    4  \n",
       "4       3.0        4         1                    3  \n",
       "5       7.0        4         2                    1  \n",
       "6       5.0        4         2                    2  \n",
       "7       1.0        1         1                    1  \n",
       "8       1.0        6         1                    3  \n",
       "9       7.0        4         2                    3  \n",
       "\n",
       "[10 rows x 366 columns]"
      ]
     },
     "execution_count": 18,
     "metadata": {},
     "output_type": "execute_result"
    }
   ],
   "source": [
    "# Be sure to add in a lot more cells (both markdown and code) to document your\n",
    "# approach and findings!\n",
    "azdias.head(10)"
   ]
  },
  {
   "cell_type": "code",
   "execution_count": 19,
   "metadata": {},
   "outputs": [
    {
     "name": "stdout",
     "output_type": "stream",
     "text": [
      "(891221, 366)\n",
      "No. of columns with atleast one NULL:  273\n",
      "after dropping nas:  (302, 366)\n"
     ]
    }
   ],
   "source": [
    "# Removes columns with majority of missing value columns\n",
    "# Number of records with atleast one NaN column?\n",
    "print(azdias.shape)\n",
    "#azdias.describe()\n",
    "print('No. of columns with atleast one NULL: ', len(azdias.columns[azdias.isna().any()].tolist()))\n",
    "\n",
    "# Number of records with more than 10, 20, ... 40, 50% columns NaN?\n",
    "#print('No. of rows with all Null: ', len(azdias.rows[azdias.isna().any()].tolist()))\n",
    "new = azdias.dropna(inplace = False) \n",
    "print(\"after dropping nas: \", new.shape)\n",
    "# At what threshold of NaNs, a record becomes irrelevant? Can we derive some guidance from customer dataset?"
   ]
  },
  {
   "cell_type": "code",
   "execution_count": 20,
   "metadata": {
    "scrolled": true
   },
   "outputs": [
    {
     "name": "stdout",
     "output_type": "stream",
     "text": [
      "(191652, 369)\n",
      "No. of columns with atleast one NULL:  273\n",
      "No. of records with no NaN:  (136, 369)\n"
     ]
    }
   ],
   "source": [
    "print(customers.shape)\n",
    "#customers.describe()\n",
    "print('No. of columns with atleast one NULL: ', len(customers.columns[customers.isna().any()].tolist()))\n",
    "print('No. of records with no NaN: ', customers.dropna(inplace=False).shape)"
   ]
  },
  {
   "cell_type": "code",
   "execution_count": 21,
   "metadata": {},
   "outputs": [
    {
     "name": "stdout",
     "output_type": "stream",
     "text": [
      "Percentage of records with > 10.0% NaN columns: 28.999999999999996%\n"
     ]
    }
   ],
   "source": [
    "# Number of records with less greater than 30% columns being NaNs\n",
    "# azdias\n",
    "count = 0\n",
    "\n",
    "azdias_subset = azdias[:100]\n",
    "thresh_row_nan_col = 0.1\n",
    "for i in range(len(azdias_subset.index)):\n",
    "    if azdias_subset.iloc[i].isnull().sum() / len(azdias_subset.columns) > thresh_row_nan_col :\n",
    "        count += 1\n",
    "print(\"Percentage of records with > {}% NaN columns: {}%\".format(thresh_row_nan_col * 100, count/len(azdias_subset.index) * 100))      \n",
    "\n",
    "# customer"
   ]
  },
  {
   "cell_type": "code",
   "execution_count": 22,
   "metadata": {},
   "outputs": [
    {
     "name": "stdout",
     "output_type": "stream",
     "text": [
      "Percentage of columns with greater than 30.0% Nan values are: 1.639344262295082%\n"
     ]
    }
   ],
   "source": [
    "# Identify columns which are mostly NaNs\n",
    "#print('Columns with Nans: {}'.format(azdias.isnull().sum(axis=0)/len(azdias.index) * 100))\n",
    "\n",
    "# count columns with greater than a threshold number of NaNs\n",
    "thresh_col_nan = 0.3\n",
    "count = 0 \n",
    "for i in range(len(azdias.columns)):\n",
    "    if azdias.iloc[:, i].isnull().sum(axis=0)/ len(azdias.index) > thresh_col_nan:\n",
    "        count += 1\n",
    "\n",
    "print('Percentage of columns with greater than {}% Nan values are: {}%'.format(thresh_col_nan * 100, count/len(azdias.columns) * 100))    "
   ]
  },
  {
   "cell_type": "code",
   "execution_count": 23,
   "metadata": {},
   "outputs": [
    {
     "name": "stdout",
     "output_type": "stream",
     "text": [
      "Dropped 6 columns!!\n"
     ]
    }
   ],
   "source": [
    "# lets drop the columns with more than 30% Nans\n",
    "thresh_col_nan = 0.3\n",
    "original_num_columns = len(azdias.columns)\n",
    "\n",
    "azdias.drop(azdias.columns[azdias.apply(lambda col: col.isnull().sum()/len(azdias.index) > thresh_col_nan)], inplace = True, axis=1)\n",
    "\n",
    "after_nan_major_removed_num_columns = len(azdias.columns)\n",
    "print('Dropped {} columns!!'.format(original_num_columns - after_nan_major_removed_num_columns))"
   ]
  },
  {
   "cell_type": "code",
   "execution_count": 24,
   "metadata": {},
   "outputs": [
    {
     "name": "stdout",
     "output_type": "stream",
     "text": [
      "Dropped 73517 rows!!\n"
     ]
    }
   ],
   "source": [
    "# drop rows with more than 80% nan columns\n",
    "thresh_row_nan_col = 0.68\n",
    "\n",
    "ids = azdias[azdias.isnull().sum(axis=1) / len(azdias.columns) > thresh_row_nan_col].index # fix, TODO\n",
    "#print('number of rows: {}'.format(len(ids)))\n",
    "\n",
    "original_length_azdias = azdias.shape[0]\n",
    "azdias.drop(ids, inplace=True)\n",
    "rows_with_major_nan_removed_length_azdias = azdias.shape[0]\n",
    "print('Dropped {} rows!!'.format(original_length_azdias - rows_with_major_nan_removed_length_azdias))"
   ]
  },
  {
   "cell_type": "code",
   "execution_count": 25,
   "metadata": {},
   "outputs": [
    {
     "data": {
      "text/html": [
       "<div>\n",
       "<style scoped>\n",
       "    .dataframe tbody tr th:only-of-type {\n",
       "        vertical-align: middle;\n",
       "    }\n",
       "\n",
       "    .dataframe tbody tr th {\n",
       "        vertical-align: top;\n",
       "    }\n",
       "\n",
       "    .dataframe thead th {\n",
       "        text-align: right;\n",
       "    }\n",
       "</style>\n",
       "<table border=\"1\" class=\"dataframe\">\n",
       "  <thead>\n",
       "    <tr style=\"text-align: right;\">\n",
       "      <th></th>\n",
       "      <th>LNR</th>\n",
       "      <th>AGER_TYP</th>\n",
       "      <th>AKT_DAT_KL</th>\n",
       "      <th>ALTER_HH</th>\n",
       "      <th>ALTERSKATEGORIE_FEIN</th>\n",
       "      <th>ANZ_HAUSHALTE_AKTIV</th>\n",
       "      <th>ANZ_HH_TITEL</th>\n",
       "      <th>ANZ_KINDER</th>\n",
       "      <th>ANZ_PERSONEN</th>\n",
       "      <th>ANZ_STATISTISCHE_HAUSHALTE</th>\n",
       "      <th>...</th>\n",
       "      <th>VHN</th>\n",
       "      <th>VK_DHT4A</th>\n",
       "      <th>VK_DISTANZ</th>\n",
       "      <th>VK_ZG11</th>\n",
       "      <th>W_KEIT_KIND_HH</th>\n",
       "      <th>WOHNDAUER_2008</th>\n",
       "      <th>WOHNLAGE</th>\n",
       "      <th>ZABEOTYP</th>\n",
       "      <th>ANREDE_KZ</th>\n",
       "      <th>ALTERSKATEGORIE_GROB</th>\n",
       "    </tr>\n",
       "  </thead>\n",
       "  <tbody>\n",
       "    <tr>\n",
       "      <th>count</th>\n",
       "      <td>8.177040e+05</td>\n",
       "      <td>817704.000000</td>\n",
       "      <td>817704.000000</td>\n",
       "      <td>817704.000000</td>\n",
       "      <td>628261.000000</td>\n",
       "      <td>798073.000000</td>\n",
       "      <td>794213.000000</td>\n",
       "      <td>817704.000000</td>\n",
       "      <td>817704.000000</td>\n",
       "      <td>798073.000000</td>\n",
       "      <td>...</td>\n",
       "      <td>770025.000000</td>\n",
       "      <td>815304.000000</td>\n",
       "      <td>815304.000000</td>\n",
       "      <td>815304.000000</td>\n",
       "      <td>783601.000000</td>\n",
       "      <td>817704.000000</td>\n",
       "      <td>798073.000000</td>\n",
       "      <td>817704.000000</td>\n",
       "      <td>817704.000000</td>\n",
       "      <td>817704.000000</td>\n",
       "    </tr>\n",
       "    <tr>\n",
       "      <th>mean</th>\n",
       "      <td>6.358359e+05</td>\n",
       "      <td>-0.300773</td>\n",
       "      <td>4.421938</td>\n",
       "      <td>10.864122</td>\n",
       "      <td>13.700704</td>\n",
       "      <td>8.287263</td>\n",
       "      <td>0.040647</td>\n",
       "      <td>0.154019</td>\n",
       "      <td>1.727642</td>\n",
       "      <td>7.599356</td>\n",
       "      <td>...</td>\n",
       "      <td>2.417322</td>\n",
       "      <td>6.001214</td>\n",
       "      <td>7.532130</td>\n",
       "      <td>5.945972</td>\n",
       "      <td>3.933493</td>\n",
       "      <td>7.908823</td>\n",
       "      <td>4.052836</td>\n",
       "      <td>3.395000</td>\n",
       "      <td>1.521777</td>\n",
       "      <td>2.816429</td>\n",
       "    </tr>\n",
       "    <tr>\n",
       "      <th>std</th>\n",
       "      <td>2.575936e+05</td>\n",
       "      <td>1.235219</td>\n",
       "      <td>3.638804</td>\n",
       "      <td>7.639685</td>\n",
       "      <td>5.079882</td>\n",
       "      <td>15.628087</td>\n",
       "      <td>0.324028</td>\n",
       "      <td>0.502390</td>\n",
       "      <td>1.155842</td>\n",
       "      <td>14.332201</td>\n",
       "      <td>...</td>\n",
       "      <td>1.166572</td>\n",
       "      <td>2.856091</td>\n",
       "      <td>3.247789</td>\n",
       "      <td>2.771464</td>\n",
       "      <td>1.964639</td>\n",
       "      <td>1.923102</td>\n",
       "      <td>1.949539</td>\n",
       "      <td>1.407626</td>\n",
       "      <td>0.499526</td>\n",
       "      <td>1.081171</td>\n",
       "    </tr>\n",
       "    <tr>\n",
       "      <th>min</th>\n",
       "      <td>1.916530e+05</td>\n",
       "      <td>-1.000000</td>\n",
       "      <td>1.000000</td>\n",
       "      <td>0.000000</td>\n",
       "      <td>0.000000</td>\n",
       "      <td>0.000000</td>\n",
       "      <td>0.000000</td>\n",
       "      <td>0.000000</td>\n",
       "      <td>0.000000</td>\n",
       "      <td>0.000000</td>\n",
       "      <td>...</td>\n",
       "      <td>0.000000</td>\n",
       "      <td>1.000000</td>\n",
       "      <td>1.000000</td>\n",
       "      <td>1.000000</td>\n",
       "      <td>0.000000</td>\n",
       "      <td>1.000000</td>\n",
       "      <td>0.000000</td>\n",
       "      <td>1.000000</td>\n",
       "      <td>1.000000</td>\n",
       "      <td>1.000000</td>\n",
       "    </tr>\n",
       "    <tr>\n",
       "      <th>25%</th>\n",
       "      <td>4.121108e+05</td>\n",
       "      <td>-1.000000</td>\n",
       "      <td>1.000000</td>\n",
       "      <td>0.000000</td>\n",
       "      <td>11.000000</td>\n",
       "      <td>1.000000</td>\n",
       "      <td>0.000000</td>\n",
       "      <td>0.000000</td>\n",
       "      <td>1.000000</td>\n",
       "      <td>1.000000</td>\n",
       "      <td>...</td>\n",
       "      <td>2.000000</td>\n",
       "      <td>3.000000</td>\n",
       "      <td>5.000000</td>\n",
       "      <td>4.000000</td>\n",
       "      <td>2.000000</td>\n",
       "      <td>8.000000</td>\n",
       "      <td>3.000000</td>\n",
       "      <td>3.000000</td>\n",
       "      <td>1.000000</td>\n",
       "      <td>2.000000</td>\n",
       "    </tr>\n",
       "    <tr>\n",
       "      <th>50%</th>\n",
       "      <td>6.353435e+05</td>\n",
       "      <td>-1.000000</td>\n",
       "      <td>3.000000</td>\n",
       "      <td>13.000000</td>\n",
       "      <td>14.000000</td>\n",
       "      <td>4.000000</td>\n",
       "      <td>0.000000</td>\n",
       "      <td>0.000000</td>\n",
       "      <td>1.000000</td>\n",
       "      <td>3.000000</td>\n",
       "      <td>...</td>\n",
       "      <td>2.000000</td>\n",
       "      <td>6.000000</td>\n",
       "      <td>8.000000</td>\n",
       "      <td>6.000000</td>\n",
       "      <td>4.000000</td>\n",
       "      <td>9.000000</td>\n",
       "      <td>3.000000</td>\n",
       "      <td>3.000000</td>\n",
       "      <td>2.000000</td>\n",
       "      <td>3.000000</td>\n",
       "    </tr>\n",
       "    <tr>\n",
       "      <th>75%</th>\n",
       "      <td>8.589262e+05</td>\n",
       "      <td>1.000000</td>\n",
       "      <td>9.000000</td>\n",
       "      <td>17.000000</td>\n",
       "      <td>17.000000</td>\n",
       "      <td>9.000000</td>\n",
       "      <td>0.000000</td>\n",
       "      <td>0.000000</td>\n",
       "      <td>2.000000</td>\n",
       "      <td>9.000000</td>\n",
       "      <td>...</td>\n",
       "      <td>3.000000</td>\n",
       "      <td>9.000000</td>\n",
       "      <td>10.000000</td>\n",
       "      <td>8.000000</td>\n",
       "      <td>6.000000</td>\n",
       "      <td>9.000000</td>\n",
       "      <td>5.000000</td>\n",
       "      <td>4.000000</td>\n",
       "      <td>2.000000</td>\n",
       "      <td>4.000000</td>\n",
       "    </tr>\n",
       "    <tr>\n",
       "      <th>max</th>\n",
       "      <td>1.082873e+06</td>\n",
       "      <td>3.000000</td>\n",
       "      <td>9.000000</td>\n",
       "      <td>21.000000</td>\n",
       "      <td>25.000000</td>\n",
       "      <td>595.000000</td>\n",
       "      <td>23.000000</td>\n",
       "      <td>11.000000</td>\n",
       "      <td>45.000000</td>\n",
       "      <td>449.000000</td>\n",
       "      <td>...</td>\n",
       "      <td>4.000000</td>\n",
       "      <td>11.000000</td>\n",
       "      <td>13.000000</td>\n",
       "      <td>11.000000</td>\n",
       "      <td>6.000000</td>\n",
       "      <td>9.000000</td>\n",
       "      <td>8.000000</td>\n",
       "      <td>6.000000</td>\n",
       "      <td>2.000000</td>\n",
       "      <td>9.000000</td>\n",
       "    </tr>\n",
       "  </tbody>\n",
       "</table>\n",
       "<p>8 rows × 354 columns</p>\n",
       "</div>"
      ],
      "text/plain": [
       "                LNR       AGER_TYP     AKT_DAT_KL       ALTER_HH  \\\n",
       "count  8.177040e+05  817704.000000  817704.000000  817704.000000   \n",
       "mean   6.358359e+05      -0.300773       4.421938      10.864122   \n",
       "std    2.575936e+05       1.235219       3.638804       7.639685   \n",
       "min    1.916530e+05      -1.000000       1.000000       0.000000   \n",
       "25%    4.121108e+05      -1.000000       1.000000       0.000000   \n",
       "50%    6.353435e+05      -1.000000       3.000000      13.000000   \n",
       "75%    8.589262e+05       1.000000       9.000000      17.000000   \n",
       "max    1.082873e+06       3.000000       9.000000      21.000000   \n",
       "\n",
       "       ALTERSKATEGORIE_FEIN  ANZ_HAUSHALTE_AKTIV   ANZ_HH_TITEL  \\\n",
       "count         628261.000000        798073.000000  794213.000000   \n",
       "mean              13.700704             8.287263       0.040647   \n",
       "std                5.079882            15.628087       0.324028   \n",
       "min                0.000000             0.000000       0.000000   \n",
       "25%               11.000000             1.000000       0.000000   \n",
       "50%               14.000000             4.000000       0.000000   \n",
       "75%               17.000000             9.000000       0.000000   \n",
       "max               25.000000           595.000000      23.000000   \n",
       "\n",
       "          ANZ_KINDER   ANZ_PERSONEN  ANZ_STATISTISCHE_HAUSHALTE  ...  \\\n",
       "count  817704.000000  817704.000000               798073.000000  ...   \n",
       "mean        0.154019       1.727642                    7.599356  ...   \n",
       "std         0.502390       1.155842                   14.332201  ...   \n",
       "min         0.000000       0.000000                    0.000000  ...   \n",
       "25%         0.000000       1.000000                    1.000000  ...   \n",
       "50%         0.000000       1.000000                    3.000000  ...   \n",
       "75%         0.000000       2.000000                    9.000000  ...   \n",
       "max        11.000000      45.000000                  449.000000  ...   \n",
       "\n",
       "                 VHN       VK_DHT4A     VK_DISTANZ        VK_ZG11  \\\n",
       "count  770025.000000  815304.000000  815304.000000  815304.000000   \n",
       "mean        2.417322       6.001214       7.532130       5.945972   \n",
       "std         1.166572       2.856091       3.247789       2.771464   \n",
       "min         0.000000       1.000000       1.000000       1.000000   \n",
       "25%         2.000000       3.000000       5.000000       4.000000   \n",
       "50%         2.000000       6.000000       8.000000       6.000000   \n",
       "75%         3.000000       9.000000      10.000000       8.000000   \n",
       "max         4.000000      11.000000      13.000000      11.000000   \n",
       "\n",
       "       W_KEIT_KIND_HH  WOHNDAUER_2008       WOHNLAGE       ZABEOTYP  \\\n",
       "count   783601.000000   817704.000000  798073.000000  817704.000000   \n",
       "mean         3.933493        7.908823       4.052836       3.395000   \n",
       "std          1.964639        1.923102       1.949539       1.407626   \n",
       "min          0.000000        1.000000       0.000000       1.000000   \n",
       "25%          2.000000        8.000000       3.000000       3.000000   \n",
       "50%          4.000000        9.000000       3.000000       3.000000   \n",
       "75%          6.000000        9.000000       5.000000       4.000000   \n",
       "max          6.000000        9.000000       8.000000       6.000000   \n",
       "\n",
       "           ANREDE_KZ  ALTERSKATEGORIE_GROB  \n",
       "count  817704.000000         817704.000000  \n",
       "mean        1.521777              2.816429  \n",
       "std         0.499526              1.081171  \n",
       "min         1.000000              1.000000  \n",
       "25%         1.000000              2.000000  \n",
       "50%         2.000000              3.000000  \n",
       "75%         2.000000              4.000000  \n",
       "max         2.000000              9.000000  \n",
       "\n",
       "[8 rows x 354 columns]"
      ]
     },
     "execution_count": 25,
     "metadata": {},
     "output_type": "execute_result"
    }
   ],
   "source": [
    "azdias.describe()"
   ]
  },
  {
   "cell_type": "code",
   "execution_count": 26,
   "metadata": {},
   "outputs": [
    {
     "name": "stdout",
     "output_type": "stream",
     "text": [
      "No. of numerical cols: 354\n",
      "No. of categorical columns are: 6\n",
      "No. of columns in azdias(after categorical removal): 354\n"
     ]
    }
   ],
   "source": [
    "# check if there is categorical data?\n",
    "all_cols = azdias.columns\n",
    "numeric_cols = azdias._get_numeric_data().columns\n",
    "print('No. of numerical cols: {}'.format(len(numeric_cols)))\n",
    "categorical_cols = list(set(all_cols) - set(numeric_cols))\n",
    "print('No. of categorical columns are: {}'.format(len(categorical_cols)))\n",
    "\n",
    "# if so what to do with them, do they add value?\n",
    "'''\n",
    "print(azdias['D19_LETZTER_KAUF_BRANCHE'].head(10))\n",
    "print(azdias['OST_WEST_KZ'].head(10))\n",
    "print(azdias['CAMEO_INTL_2015'].head(10))\n",
    "print(azdias['EINGEFUEGT_AM'].head(10))\n",
    "print(azdias['CAMEO_DEU_2015'].head(10))\n",
    "print(azdias['CAMEO_DEUG_2015'].head(10))\n",
    "'''\n",
    "# dropping for now\n",
    "azdias = azdias._get_numeric_data()#azdias.select_dtypes(['number'])#azdias.drop(columns=categorical_cols, inplace=False, axis=1)\n",
    "print('No. of columns in azdias(after categorical removal): {}'.format(len(azdias.columns)))\n"
   ]
  },
  {
   "cell_type": "code",
   "execution_count": 27,
   "metadata": {},
   "outputs": [],
   "source": [
    "# impute Nans\n",
    "azdias_no_nans = azdias.fillna(value=0, inplace=False)"
   ]
  },
  {
   "cell_type": "code",
   "execution_count": 28,
   "metadata": {},
   "outputs": [
    {
     "data": {
      "text/plain": [
       "PCA(copy=True, iterated_power='auto', n_components=5, random_state=None,\n",
       "    svd_solver='auto', tol=0.0, whiten=False)"
      ]
     },
     "execution_count": 28,
     "metadata": {},
     "output_type": "execute_result"
    }
   ],
   "source": [
    "# perform PCA \n",
    "from sklearn.decomposition import PCA\n",
    "n_components = 5\n",
    "pca = PCA(n_components=n_components)\n",
    "pca.fit(azdias_no_nans)"
   ]
  },
  {
   "cell_type": "code",
   "execution_count": 29,
   "metadata": {},
   "outputs": [
    {
     "name": "stdout",
     "output_type": "stream",
     "text": [
      "Principal components are: [[ 9.99999982e-01 -9.54713920e-08  7.27532599e-08 ... -2.13995647e-07\n",
      "   8.09598407e-09 -4.22391418e-10]\n",
      " [-5.25917125e-05 -2.29224634e-04  1.00978465e-03 ... -1.44668219e-04\n",
      "  -3.34652317e-06  8.43677748e-05]\n",
      " [ 1.74259937e-04  8.81850593e-07  2.47583118e-04 ...  4.08349749e-04\n",
      "  -5.18606546e-06 -4.76434543e-05]\n",
      " [-6.07671945e-05  6.23552058e-05 -1.45860815e-04 ...  4.29106964e-05\n",
      "   1.47176467e-05  2.76402974e-05]\n",
      " [ 3.00219004e-06 -1.62690319e-03  2.82538750e-02 ...  1.65069134e-02\n",
      "   3.34219552e-04 -2.11563835e-03]]\n"
     ]
    }
   ],
   "source": [
    "print('Principal components are: {}'.format(pca.components_))"
   ]
  },
  {
   "cell_type": "code",
   "execution_count": 30,
   "metadata": {},
   "outputs": [],
   "source": [
    "# get corresponding df\n",
    "azdias_pca = pd.DataFrame(pca.transform(azdias_no_nans), columns=['PCA_% i' %i for i in range(n_components)])"
   ]
  },
  {
   "cell_type": "code",
   "execution_count": 31,
   "metadata": {},
   "outputs": [
    {
     "data": {
      "text/html": [
       "<div>\n",
       "<style scoped>\n",
       "    .dataframe tbody tr th:only-of-type {\n",
       "        vertical-align: middle;\n",
       "    }\n",
       "\n",
       "    .dataframe tbody tr th {\n",
       "        vertical-align: top;\n",
       "    }\n",
       "\n",
       "    .dataframe thead th {\n",
       "        text-align: right;\n",
       "    }\n",
       "</style>\n",
       "<table border=\"1\" class=\"dataframe\">\n",
       "  <thead>\n",
       "    <tr style=\"text-align: right;\">\n",
       "      <th></th>\n",
       "      <th>PCA_ 0</th>\n",
       "      <th>PCA_ 1</th>\n",
       "      <th>PCA_ 2</th>\n",
       "      <th>PCA_ 3</th>\n",
       "      <th>PCA_ 4</th>\n",
       "    </tr>\n",
       "  </thead>\n",
       "  <tbody>\n",
       "    <tr>\n",
       "      <th>count</th>\n",
       "      <td>8.177040e+05</td>\n",
       "      <td>8.177040e+05</td>\n",
       "      <td>8.177040e+05</td>\n",
       "      <td>8.177040e+05</td>\n",
       "      <td>8.177040e+05</td>\n",
       "    </tr>\n",
       "    <tr>\n",
       "      <th>mean</th>\n",
       "      <td>-5.771685e-11</td>\n",
       "      <td>-2.351639e-14</td>\n",
       "      <td>-5.978053e-15</td>\n",
       "      <td>-4.219063e-14</td>\n",
       "      <td>-1.565058e-16</td>\n",
       "    </tr>\n",
       "    <tr>\n",
       "      <th>std</th>\n",
       "      <td>2.575936e+05</td>\n",
       "      <td>9.594904e+02</td>\n",
       "      <td>3.742830e+02</td>\n",
       "      <td>2.763566e+02</td>\n",
       "      <td>2.172653e+01</td>\n",
       "    </tr>\n",
       "    <tr>\n",
       "      <th>min</th>\n",
       "      <td>-4.441829e+05</td>\n",
       "      <td>-8.503849e+02</td>\n",
       "      <td>-1.583434e+03</td>\n",
       "      <td>-3.928327e+02</td>\n",
       "      <td>-3.354208e+01</td>\n",
       "    </tr>\n",
       "    <tr>\n",
       "      <th>25%</th>\n",
       "      <td>-2.237251e+05</td>\n",
       "      <td>-7.727230e+02</td>\n",
       "      <td>-1.667653e+02</td>\n",
       "      <td>-1.507618e+02</td>\n",
       "      <td>-1.136109e+01</td>\n",
       "    </tr>\n",
       "    <tr>\n",
       "      <th>50%</th>\n",
       "      <td>-4.925208e+02</td>\n",
       "      <td>-7.447748e+02</td>\n",
       "      <td>2.814804e+01</td>\n",
       "      <td>-6.380984e+01</td>\n",
       "      <td>-3.475137e+00</td>\n",
       "    </tr>\n",
       "    <tr>\n",
       "      <th>75%</th>\n",
       "      <td>2.230903e+05</td>\n",
       "      <td>1.192911e+03</td>\n",
       "      <td>1.743264e+02</td>\n",
       "      <td>6.084185e+01</td>\n",
       "      <td>5.545645e+00</td>\n",
       "    </tr>\n",
       "    <tr>\n",
       "      <th>max</th>\n",
       "      <td>4.470372e+05</td>\n",
       "      <td>1.234068e+03</td>\n",
       "      <td>1.593284e+03</td>\n",
       "      <td>1.398385e+03</td>\n",
       "      <td>5.462601e+02</td>\n",
       "    </tr>\n",
       "  </tbody>\n",
       "</table>\n",
       "</div>"
      ],
      "text/plain": [
       "             PCA_ 0        PCA_ 1        PCA_ 2        PCA_ 3        PCA_ 4\n",
       "count  8.177040e+05  8.177040e+05  8.177040e+05  8.177040e+05  8.177040e+05\n",
       "mean  -5.771685e-11 -2.351639e-14 -5.978053e-15 -4.219063e-14 -1.565058e-16\n",
       "std    2.575936e+05  9.594904e+02  3.742830e+02  2.763566e+02  2.172653e+01\n",
       "min   -4.441829e+05 -8.503849e+02 -1.583434e+03 -3.928327e+02 -3.354208e+01\n",
       "25%   -2.237251e+05 -7.727230e+02 -1.667653e+02 -1.507618e+02 -1.136109e+01\n",
       "50%   -4.925208e+02 -7.447748e+02  2.814804e+01 -6.380984e+01 -3.475137e+00\n",
       "75%    2.230903e+05  1.192911e+03  1.743264e+02  6.084185e+01  5.545645e+00\n",
       "max    4.470372e+05  1.234068e+03  1.593284e+03  1.398385e+03  5.462601e+02"
      ]
     },
     "execution_count": 31,
     "metadata": {},
     "output_type": "execute_result"
    }
   ],
   "source": [
    "azdias_pca.describe()"
   ]
  },
  {
   "cell_type": "code",
   "execution_count": 32,
   "metadata": {},
   "outputs": [],
   "source": [
    "import matplotlib.pyplot as plt\n",
    "from sklearn.cluster import KMeans"
   ]
  },
  {
   "cell_type": "code",
   "execution_count": 33,
   "metadata": {},
   "outputs": [
    {
     "name": "stdout",
     "output_type": "stream",
     "text": [
      "[[ 1.85831031e+03 -6.25932740e+00 -3.76943005e+01  1.11922544e+01\n",
      "  -2.00940994e+00]\n",
      " [ 2.98988834e+05  2.64826089e+00  2.18826483e+01 -6.63824692e+00\n",
      "   1.22063272e+00]\n",
      " [-2.96166171e+05  3.61339662e+00  1.59183658e+01 -4.58789220e+00\n",
      "   7.95310991e-01]]\n"
     ]
    }
   ],
   "source": [
    "kmeans = KMeans(n_clusters=3).fit(azdias_pca)\n",
    "centroids = kmeans.cluster_centers_\n",
    "print(centroids)"
   ]
  },
  {
   "cell_type": "code",
   "execution_count": 34,
   "metadata": {},
   "outputs": [
    {
     "data": {
      "image/png": "[encoded data removed]",
      "text/plain": [
       "<Figure size 432x288 with 1 Axes>"
      ]
     },
     "metadata": {
      "needs_background": "light"
     },
     "output_type": "display_data"
    }
   ],
   "source": [
    "plt.scatter(azdias_pca['PCA_ 0'], azdias_pca['PCA_ 1'], c= kmeans.labels_.astype(float), s=50, alpha=0.5)\n",
    "#print(azdias_pca.columns)\n",
    "plt.scatter(centroids[:, 0], centroids[:, 1], c='red', s=50)\n",
    "plt.show()"
   ]
  },
  {
   "cell_type": "code",
   "execution_count": 35,
   "metadata": {},
   "outputs": [
    {
     "data": {
      "image/png": "[encoded data removed]",
      "text/plain": [
       "<Figure size 432x288 with 1 Axes>"
      ]
     },
     "metadata": {
      "needs_background": "light"
     },
     "output_type": "display_data"
    }
   ],
   "source": [
    "# elbow method\n",
    "\n",
    "wcss = []\n",
    "for i in range(1, 11):\n",
    "    kmeans = KMeans(n_clusters=i, init='k-means++', max_iter=300, n_init=10, random_state=0)\n",
    "    kmeans.fit(azdias_pca)\n",
    "    wcss.append(kmeans.inertia_)\n",
    "plt.plot(range(1, 11), wcss)\n",
    "plt.title('Elbow Method')\n",
    "plt.xlabel('Number of clusters')\n",
    "plt.ylabel('WCSS')\n",
    "plt.show()"
   ]
  },
  {
   "cell_type": "code",
   "execution_count": 36,
   "metadata": {},
   "outputs": [],
   "source": [
    "azdias_pca.to_csv('datasets/current_azdias.csv', index=False)"
   ]
  },
  {
   "cell_type": "code",
   "execution_count": 37,
   "metadata": {},
   "outputs": [],
   "source": [
    "azdias_pca = pd.read_csv('datasets/current_azdias.csv')"
   ]
  },
  {
   "cell_type": "code",
   "execution_count": 38,
   "metadata": {},
   "outputs": [
    {
     "data": {
      "text/html": [
       "<div>\n",
       "<style scoped>\n",
       "    .dataframe tbody tr th:only-of-type {\n",
       "        vertical-align: middle;\n",
       "    }\n",
       "\n",
       "    .dataframe tbody tr th {\n",
       "        vertical-align: top;\n",
       "    }\n",
       "\n",
       "    .dataframe thead th {\n",
       "        text-align: right;\n",
       "    }\n",
       "</style>\n",
       "<table border=\"1\" class=\"dataframe\">\n",
       "  <thead>\n",
       "    <tr style=\"text-align: right;\">\n",
       "      <th></th>\n",
       "      <th>PCA_ 0</th>\n",
       "      <th>PCA_ 1</th>\n",
       "      <th>PCA_ 2</th>\n",
       "      <th>PCA_ 3</th>\n",
       "      <th>PCA_ 4</th>\n",
       "    </tr>\n",
       "  </thead>\n",
       "  <tbody>\n",
       "    <tr>\n",
       "      <th>count</th>\n",
       "      <td>8.177040e+05</td>\n",
       "      <td>8.177040e+05</td>\n",
       "      <td>8.177040e+05</td>\n",
       "      <td>8.177040e+05</td>\n",
       "      <td>8.177040e+05</td>\n",
       "    </tr>\n",
       "    <tr>\n",
       "      <th>mean</th>\n",
       "      <td>-5.885807e-11</td>\n",
       "      <td>-2.468732e-14</td>\n",
       "      <td>-5.076780e-15</td>\n",
       "      <td>-4.181977e-14</td>\n",
       "      <td>-1.584198e-16</td>\n",
       "    </tr>\n",
       "    <tr>\n",
       "      <th>std</th>\n",
       "      <td>2.575936e+05</td>\n",
       "      <td>9.594904e+02</td>\n",
       "      <td>3.742830e+02</td>\n",
       "      <td>2.763566e+02</td>\n",
       "      <td>2.172653e+01</td>\n",
       "    </tr>\n",
       "    <tr>\n",
       "      <th>min</th>\n",
       "      <td>-4.441829e+05</td>\n",
       "      <td>-8.503849e+02</td>\n",
       "      <td>-1.583434e+03</td>\n",
       "      <td>-3.928327e+02</td>\n",
       "      <td>-3.354208e+01</td>\n",
       "    </tr>\n",
       "    <tr>\n",
       "      <th>25%</th>\n",
       "      <td>-2.237251e+05</td>\n",
       "      <td>-7.727230e+02</td>\n",
       "      <td>-1.667653e+02</td>\n",
       "      <td>-1.507618e+02</td>\n",
       "      <td>-1.136109e+01</td>\n",
       "    </tr>\n",
       "    <tr>\n",
       "      <th>50%</th>\n",
       "      <td>-4.925208e+02</td>\n",
       "      <td>-7.447748e+02</td>\n",
       "      <td>2.814804e+01</td>\n",
       "      <td>-6.380984e+01</td>\n",
       "      <td>-3.475137e+00</td>\n",
       "    </tr>\n",
       "    <tr>\n",
       "      <th>75%</th>\n",
       "      <td>2.230903e+05</td>\n",
       "      <td>1.192911e+03</td>\n",
       "      <td>1.743264e+02</td>\n",
       "      <td>6.084185e+01</td>\n",
       "      <td>5.545645e+00</td>\n",
       "    </tr>\n",
       "    <tr>\n",
       "      <th>max</th>\n",
       "      <td>4.470372e+05</td>\n",
       "      <td>1.234068e+03</td>\n",
       "      <td>1.593284e+03</td>\n",
       "      <td>1.398385e+03</td>\n",
       "      <td>5.462601e+02</td>\n",
       "    </tr>\n",
       "  </tbody>\n",
       "</table>\n",
       "</div>"
      ],
      "text/plain": [
       "             PCA_ 0        PCA_ 1        PCA_ 2        PCA_ 3        PCA_ 4\n",
       "count  8.177040e+05  8.177040e+05  8.177040e+05  8.177040e+05  8.177040e+05\n",
       "mean  -5.885807e-11 -2.468732e-14 -5.076780e-15 -4.181977e-14 -1.584198e-16\n",
       "std    2.575936e+05  9.594904e+02  3.742830e+02  2.763566e+02  2.172653e+01\n",
       "min   -4.441829e+05 -8.503849e+02 -1.583434e+03 -3.928327e+02 -3.354208e+01\n",
       "25%   -2.237251e+05 -7.727230e+02 -1.667653e+02 -1.507618e+02 -1.136109e+01\n",
       "50%   -4.925208e+02 -7.447748e+02  2.814804e+01 -6.380984e+01 -3.475137e+00\n",
       "75%    2.230903e+05  1.192911e+03  1.743264e+02  6.084185e+01  5.545645e+00\n",
       "max    4.470372e+05  1.234068e+03  1.593284e+03  1.398385e+03  5.462601e+02"
      ]
     },
     "execution_count": 38,
     "metadata": {},
     "output_type": "execute_result"
    }
   ],
   "source": [
    "azdias_pca.describe()"
   ]
  },
  {
   "cell_type": "code",
   "execution_count": null,
   "metadata": {},
   "outputs": [],
   "source": [
    "# select the optimal cluster based on elbow method plot above\n",
    "# we will take 3\n",
    "kmeans = KMeans(n_clusters=3, init='k-means++', max_iter=300, n_init=10, random_state=0)\n",
    "pred_y = kmeans.fit_predict(azdias_pca)"
   ]
  },
  {
   "cell_type": "code",
   "execution_count": 44,
   "metadata": {},
   "outputs": [
    {
     "name": "stdout",
     "output_type": "stream",
     "text": [
      "0\n"
     ]
    },
    {
     "ename": "IndexError",
     "evalue": "too many indices for array",
     "output_type": "error",
     "traceback": [
      "\u001b[0;31m---------------------------------------------------------------------------\u001b[0m",
      "\u001b[0;31mIndexError\u001b[0m                                Traceback (most recent call last)",
      "\u001b[0;32m<ipython-input-44-a2c524e95870>\u001b[0m in \u001b[0;36m<module>\u001b[0;34m\u001b[0m\n\u001b[1;32m      1\u001b[0m \u001b[0mprint\u001b[0m\u001b[0;34m(\u001b[0m\u001b[0mpred_y\u001b[0m\u001b[0;34m[\u001b[0m\u001b[0;36m10\u001b[0m\u001b[0;34m]\u001b[0m\u001b[0;34m)\u001b[0m\u001b[0;34m\u001b[0m\u001b[0;34m\u001b[0m\u001b[0m\n\u001b[0;32m----> 2\u001b[0;31m \u001b[0mplt\u001b[0m\u001b[0;34m.\u001b[0m\u001b[0mscatter\u001b[0m\u001b[0;34m(\u001b[0m\u001b[0mpred_y\u001b[0m\u001b[0;34m[\u001b[0m\u001b[0;34m:\u001b[0m\u001b[0;34m,\u001b[0m \u001b[0;36m0\u001b[0m\u001b[0;34m]\u001b[0m\u001b[0;34m,\u001b[0m \u001b[0mpred_y\u001b[0m\u001b[0;34m[\u001b[0m\u001b[0;34m:\u001b[0m\u001b[0;34m,\u001b[0m \u001b[0;36m1\u001b[0m\u001b[0;34m]\u001b[0m\u001b[0;34m)\u001b[0m\u001b[0;34m\u001b[0m\u001b[0;34m\u001b[0m\u001b[0m\n\u001b[0m\u001b[1;32m      3\u001b[0m \u001b[0mplt\u001b[0m\u001b[0;34m.\u001b[0m\u001b[0mscatter\u001b[0m\u001b[0;34m(\u001b[0m\u001b[0mkmeans\u001b[0m\u001b[0;34m.\u001b[0m\u001b[0mcluster_centers_\u001b[0m\u001b[0;34m[\u001b[0m\u001b[0;34m:\u001b[0m\u001b[0;34m,\u001b[0m \u001b[0;36m0\u001b[0m\u001b[0;34m]\u001b[0m\u001b[0;34m,\u001b[0m \u001b[0mkmeans\u001b[0m\u001b[0;34m.\u001b[0m\u001b[0mcluster_centers_\u001b[0m\u001b[0;34m[\u001b[0m\u001b[0;34m:\u001b[0m\u001b[0;34m,\u001b[0m \u001b[0;36m1\u001b[0m\u001b[0;34m]\u001b[0m\u001b[0;34m,\u001b[0m \u001b[0ms\u001b[0m\u001b[0;34m=\u001b[0m\u001b[0;36m300\u001b[0m\u001b[0;34m,\u001b[0m \u001b[0mc\u001b[0m\u001b[0;34m=\u001b[0m\u001b[0;34m'red'\u001b[0m\u001b[0;34m)\u001b[0m\u001b[0;34m\u001b[0m\u001b[0;34m\u001b[0m\u001b[0m\n\u001b[1;32m      4\u001b[0m \u001b[0mplt\u001b[0m\u001b[0;34m.\u001b[0m\u001b[0mshow\u001b[0m\u001b[0;34m(\u001b[0m\u001b[0;34m)\u001b[0m\u001b[0;34m\u001b[0m\u001b[0;34m\u001b[0m\u001b[0m\n",
      "\u001b[0;31mIndexError\u001b[0m: too many indices for array"
     ]
    }
   ],
   "source": [
    "plt.scatter(pred_y[:, 0], pred_y[:, 1])\n",
    "plt.scatter(kmeans.cluster_centers_[:, 0], kmeans.cluster_centers_[:, 1], s=300, c='red')\n",
    "plt.show()\n"
   ]
  },
  {
   "cell_type": "code",
   "execution_count": 44,
   "metadata": {},
   "outputs": [],
   "source": [
    "# use this cell to dump the transformed azdias after day of work\n",
    "azdias_pca.to_csv('datasets/current_azdias.csv')"
   ]
  },
  {
   "cell_type": "code",
   "execution_count": null,
   "metadata": {},
   "outputs": [],
   "source": [
    "# preprocess customers data\n",
    "# cluster customers\n",
    "# visualize over and underrepresented population wrt customers"
   ]
  },
  {
   "cell_type": "markdown",
   "metadata": {},
   "source": [
    "## Part 1: Customer Segmentation Report\n",
    "\n",
    "The main bulk of your analysis will come in this part of the project. Here, you should use unsupervised learning techniques to describe the relationship between the demographics of the company's existing customers and the general population of Germany. By the end of this part, you should be able to describe parts of the general population that are more likely to be part of the mail-order company's main customer base, and which parts of the general population are less so."
   ]
  },
  {
   "cell_type": "markdown",
   "metadata": {},
   "source": [
    "Only records with no NaN can be given to PCA or KMeans -> We have to remove irrelevant records(ones with majority of columns being NaNs) + interpolate values for NaN columns of significant records(aka imputation)"
   ]
  },
  {
   "cell_type": "code",
   "execution_count": null,
   "metadata": {},
   "outputs": [],
   "source": [
    "# identifies optimal number of clusters"
   ]
  },
  {
   "cell_type": "code",
   "execution_count": null,
   "metadata": {},
   "outputs": [],
   "source": [
    "# trains KMeans clustering on population data"
   ]
  },
  {
   "cell_type": "code",
   "execution_count": null,
   "metadata": {},
   "outputs": [],
   "source": [
    "# Clusters both popolation and customer data"
   ]
  },
  {
   "cell_type": "code",
   "execution_count": null,
   "metadata": {},
   "outputs": [],
   "source": [
    "# identifies clusters which are over and under-represented"
   ]
  },
  {
   "cell_type": "code",
   "execution_count": null,
   "metadata": {},
   "outputs": [],
   "source": [
    "# underrepresented clusters are to be marketed more"
   ]
  },
  {
   "cell_type": "code",
   "execution_count": null,
   "metadata": {},
   "outputs": [],
   "source": [
    "# identifies features which are majority indicator of customer potential"
   ]
  },
  {
   "cell_type": "markdown",
   "metadata": {},
   "source": [
    "## Part 2: Supervised Learning Model\n",
    "\n",
    "Now that you've found which parts of the population are more likely to be customers of the mail-order company, it's time to build a prediction model. Each of the rows in the \"MAILOUT\" data files represents an individual that was targeted for a mailout campaign. Ideally, we should be able to use the demographic information from each individual to decide whether or not it will be worth it to include that person in the campaign.\n",
    "\n",
    "The \"MAILOUT\" data has been split into two approximately equal parts, each with almost 43 000 data rows. In this part, you can verify your model with the \"TRAIN\" partition, which includes a column, \"RESPONSE\", that states whether or not a person became a customer of the company following the campaign. In the next part, you'll need to create predictions on the \"TEST\" partition, where the \"RESPONSE\" column has been withheld."
   ]
  },
  {
   "cell_type": "code",
   "execution_count": 10,
   "metadata": {},
   "outputs": [],
   "source": [
    "mailout_train = pd.read_csv('datasets/Udacity_MAILOUT_052018_TRAIN.csv', sep=';')"
   ]
  },
  {
   "cell_type": "code",
   "execution_count": null,
   "metadata": {},
   "outputs": [],
   "source": []
  },
  {
   "cell_type": "markdown",
   "metadata": {},
   "source": [
    "## Part 3: Kaggle Competition\n",
    "\n",
    "Now that you've created a model to predict which individuals are most likely to respond to a mailout campaign, it's time to test that model in competition through Kaggle. If you click on the link [here](http://www.kaggle.com/t/21e6d45d4c574c7fa2d868f0e8c83140), you'll be taken to the competition page where, if you have a Kaggle account, you can enter. If you're one of the top performers, you may have the chance to be contacted by a hiring manager from Arvato or Bertelsmann for an interview!\n",
    "\n",
    "Your entry to the competition should be a CSV file with two columns. The first column should be a copy of \"LNR\", which acts as an ID number for each individual in the \"TEST\" partition. The second column, \"RESPONSE\", should be some measure of how likely each individual became a customer – this might not be a straightforward probability. As you should have found in Part 2, there is a large output class imbalance, where most individuals did not respond to the mailout. Thus, predicting individual classes and using accuracy does not seem to be an appropriate performance evaluation method. Instead, the competition will be using AUC to evaluate performance. The exact values of the \"RESPONSE\" column do not matter as much: only that the higher values try to capture as many of the actual customers as possible, early in the ROC curve sweep."
   ]
  },
  {
   "cell_type": "code",
   "execution_count": 11,
   "metadata": {},
   "outputs": [],
   "source": [
    "mailout_test = pd.read_csv('datasets/Udacity_MAILOUT_052018_TEST.csv', sep=';')"
   ]
  },
  {
   "cell_type": "code",
   "execution_count": null,
   "metadata": {},
   "outputs": [],
   "source": []
  }
 ],
 "metadata": {
  "kernelspec": {
   "display_name": "conda_amazonei_mxnet_p36",
   "language": "python",
   "name": "conda_amazonei_mxnet_p36"
  },
  "language_info": {
   "codemirror_mode": {
    "name": "ipython",
    "version": 3
   },
   "file_extension": ".py",
   "mimetype": "text/x-python",
   "name": "python",
   "nbconvert_exporter": "python",
   "pygments_lexer": "ipython3",
   "version": "3.6.10"
  }
 },
 "nbformat": 4,
 "nbformat_minor": 2
}
